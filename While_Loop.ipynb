{
 "cells": [
  {
   "cell_type": "markdown",
   "metadata": {},
   "source": [
    "# While Loop"
   ]
  },
  {
   "cell_type": "code",
   "execution_count": 1,
   "metadata": {},
   "outputs": [
    {
     "name": "stdout",
     "output_type": "stream",
     "text": [
      "0 This is while loop printing\n",
      "1 This is while loop printing\n",
      "2 This is while loop printing\n",
      "3 This is while loop printing\n",
      "4 This is while loop printing\n",
      "5 This is while loop printing\n",
      "6 This is while loop printing\n",
      "7 This is while loop printing\n",
      "8 This is while loop printing\n",
      "9 This is while loop printing\n"
     ]
    }
   ],
   "source": [
    "a = 0\n",
    "while a<10:\n",
    "    print(a,\"This is while loop printing\")\n",
    "    a +=1"
   ]
  },
  {
   "cell_type": "code",
   "execution_count": 2,
   "metadata": {},
   "outputs": [
    {
     "name": "stdout",
     "output_type": "stream",
     "text": [
      "Enter your favourite food haleem\n",
      "Enter your favourite food pizza\n",
      "Enter your favourite food q\n"
     ]
    },
    {
     "data": {
      "text/plain": [
       "['haleem', 'pizza']"
      ]
     },
     "execution_count": 2,
     "metadata": {},
     "output_type": "execute_result"
    }
   ],
   "source": [
    "# Setting a flag\n",
    "\n",
    "flag = True\n",
    "favFoods = []\n",
    "while flag:\n",
    "    user_input = input(\"Enter your favourite food \")\n",
    "    if user_input == \"q\":\n",
    "        flag = False\n",
    "    else:\n",
    "        favFoods.append(user_input)\n",
    "\n",
    "favFoods"
   ]
  },
  {
   "cell_type": "code",
   "execution_count": 3,
   "metadata": {},
   "outputs": [],
   "source": [
    "cleanest_cities = [\"Cheyenne\", \"Santa Fe\", \"Tucson\",\n",
    "\"Great Falls\", \"Honolulu\"]\n"
   ]
  },
  {
   "cell_type": "code",
   "execution_count": 4,
   "metadata": {},
   "outputs": [
    {
     "name": "stdout",
     "output_type": "stream",
     "text": [
      "Enter a city or 'q' to quit: karachi\n",
      "Enter a city or 'q' to quit: Santa Fe\n",
      "It's one of the cleanest city\n",
      "Enter a city or 'q' to quit: Tucson\n",
      "It's one of the cleanest city\n",
      "Enter a city or 'q' to quit: Lhaore\n",
      "Enter a city or 'q' to quit: q\n"
     ]
    }
   ],
   "source": [
    "userInput = \" \"\n",
    "while userInput != \"q\":\n",
    "    userInput = input(\"Enter a city or 'q' to quit: \")\n",
    "    if userInput != \"q\":\n",
    "        for a_clean_city in cleanest_cities:\n",
    "            if userInput == a_clean_city:\n",
    "                print(\"It's one of the cleanest city\" )\n",
    "                break"
   ]
  },
  {
   "cell_type": "code",
   "execution_count": 7,
   "metadata": {},
   "outputs": [
    {
     "name": "stdout",
     "output_type": "stream",
     "text": [
      "Enter a city or 'q' to quit: Sana Fe\n",
      "Enter a city or 'q' to quit: Santa Fe\n",
      "It's one of the cleanest city\n",
      "Enter a city or 'q' to quit: q\n"
     ]
    }
   ],
   "source": [
    "keepLooking = True\n",
    "while keepLooking == True:\n",
    "    userInput = input(\"Enter a city or 'q' to quit: \")\n",
    "    if userInput != \"q\":\n",
    "        for a_clean_city in cleanest_cities:\n",
    "            if userInput == a_clean_city:\n",
    "                print(\"It's one of the cleanest city\" )\n",
    "    else:\n",
    "        keepLooking = False"
   ]
  },
  {
   "cell_type": "code",
   "execution_count": 2,
   "metadata": {},
   "outputs": [
    {
     "name": "stdout",
     "output_type": "stream",
     "text": [
      "1\n",
      "2\n",
      "3\n",
      "4\n",
      "5\n",
      "done\n"
     ]
    }
   ],
   "source": [
    "i = 1\n",
    "while i <= 5:\n",
    "    print(i)\n",
    "    i = i + 1\n",
    "print(\"done\")\n",
    "    "
   ]
  },
  {
   "cell_type": "code",
   "execution_count": 3,
   "metadata": {},
   "outputs": [
    {
     "name": "stdout",
     "output_type": "stream",
     "text": [
      "*\n",
      "**\n",
      "***\n",
      "****\n",
      "*****\n",
      "done\n"
     ]
    }
   ],
   "source": [
    "i = 1\n",
    "while i <= 5:\n",
    "    print(\"*\" * i)\n",
    "    i = i + 1\n",
    "print(\"done\")"
   ]
  },
  {
   "cell_type": "code",
   "execution_count": 17,
   "metadata": {},
   "outputs": [
    {
     "name": "stdout",
     "output_type": "stream",
     "text": [
      "Guess: 1\n",
      "Guess: 2\n",
      "Guess: 3\n",
      "Sorry you failed\n"
     ]
    }
   ],
   "source": [
    "# Guess Game\n",
    "secret_number = 9\n",
    "guess_count = 0\n",
    "guess_limit = 3\n",
    "while guess_count < guess_limit:\n",
    "    guess = int(input(\"Guess: \"))\n",
    "    guess_count += 1\n",
    "    if guess == secret_number:\n",
    "        print(\"You Won!\")\n",
    "        break\n",
    "else:\n",
    "    print(\"Sorry you failed\")"
   ]
  },
  {
   "cell_type": "markdown",
   "metadata": {},
   "source": []
  }
 ],
 "metadata": {
  "kernelspec": {
   "display_name": "Python 3",
   "language": "python",
   "name": "python3"
  },
  "language_info": {
   "codemirror_mode": {
    "name": "ipython",
    "version": 3
   },
   "file_extension": ".py",
   "mimetype": "text/x-python",
   "name": "python",
   "nbconvert_exporter": "python",
   "pygments_lexer": "ipython3",
   "version": "3.7.4"
  }
 },
 "nbformat": 4,
 "nbformat_minor": 2
}

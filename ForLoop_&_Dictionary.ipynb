{
 "cells": [
  {
   "cell_type": "markdown",
   "metadata": {},
   "source": [
    "# For Loop"
   ]
  },
  {
   "cell_type": "code",
   "execution_count": 1,
   "metadata": {},
   "outputs": [
    {
     "name": "stdout",
     "output_type": "stream",
     "text": [
      "Nasir\n",
      "Nasir\n",
      "Nasir\n",
      "Nasir\n",
      "Nasir\n",
      "Nasir\n"
     ]
    }
   ],
   "source": [
    "print(\"Nasir\")\n",
    "print(\"Nasir\")\n",
    "print(\"Nasir\")\n",
    "print(\"Nasir\")\n",
    "print(\"Nasir\")\n",
    "print(\"Nasir\")"
   ]
  },
  {
   "cell_type": "code",
   "execution_count": 2,
   "metadata": {},
   "outputs": [
    {
     "name": "stdout",
     "output_type": "stream",
     "text": [
      "0 nasir\n",
      "1 nasir\n",
      "2 nasir\n",
      "3 nasir\n",
      "4 nasir\n"
     ]
    }
   ],
   "source": [
    "for a in range(5):   #10 exlusive\n",
    "    print(a,\"nasir\")"
   ]
  },
  {
   "cell_type": "code",
   "execution_count": 3,
   "metadata": {},
   "outputs": [
    {
     "name": "stdout",
     "output_type": "stream",
     "text": [
      "4\n"
     ]
    }
   ],
   "source": [
    "print(a)"
   ]
  },
  {
   "cell_type": "code",
   "execution_count": 4,
   "metadata": {},
   "outputs": [
    {
     "name": "stdout",
     "output_type": "stream",
     "text": [
      "1\n",
      "2\n",
      "3\n",
      "4\n",
      "5\n",
      "6\n",
      "7\n",
      "8\n",
      "9\n"
     ]
    }
   ],
   "source": [
    "for number in range(1,10):\n",
    "    print(number)"
   ]
  },
  {
   "cell_type": "code",
   "execution_count": 5,
   "metadata": {},
   "outputs": [
    {
     "name": "stdout",
     "output_type": "stream",
     "text": [
      "1\n",
      "3\n",
      "5\n",
      "7\n",
      "9\n"
     ]
    }
   ],
   "source": [
    "for number in range(1,10,2):\n",
    "    print(number)"
   ]
  },
  {
   "cell_type": "code",
   "execution_count": 6,
   "metadata": {},
   "outputs": [
    {
     "name": "stdout",
     "output_type": "stream",
     "text": [
      "10\n",
      "9\n",
      "8\n",
      "7\n",
      "6\n",
      "5\n",
      "4\n",
      "3\n",
      "2\n"
     ]
    }
   ],
   "source": [
    "for number in range(10,1,-1):\n",
    "    print(number)"
   ]
  },
  {
   "cell_type": "code",
   "execution_count": 7,
   "metadata": {},
   "outputs": [],
   "source": [
    "cities = [\"Karachi\", \"Lahore\", \"Multan\"]"
   ]
  },
  {
   "cell_type": "code",
   "execution_count": 8,
   "metadata": {},
   "outputs": [
    {
     "data": {
      "text/plain": [
       "['Karachi', 'Lahore', 'Multan']"
      ]
     },
     "execution_count": 8,
     "metadata": {},
     "output_type": "execute_result"
    }
   ],
   "source": [
    "cities"
   ]
  },
  {
   "cell_type": "code",
   "execution_count": 9,
   "metadata": {},
   "outputs": [
    {
     "name": "stdout",
     "output_type": "stream",
     "text": [
      "The city under consideration is Karachi\n",
      "The city under consideration is Lahore\n",
      "The city under consideration is Multan\n"
     ]
    }
   ],
   "source": [
    "for city in cities:\n",
    "    print(f\"The city under consideration is {city}\")"
   ]
  },
  {
   "cell_type": "code",
   "execution_count": 10,
   "metadata": {},
   "outputs": [
    {
     "name": "stdout",
     "output_type": "stream",
     "text": [
      "11\n",
      "12\n",
      "12\n",
      "44\n",
      "55\n"
     ]
    }
   ],
   "source": [
    "for num in [11, 12, 12, 44, 55]:\n",
    "    print(num)"
   ]
  },
  {
   "cell_type": "code",
   "execution_count": 11,
   "metadata": {},
   "outputs": [],
   "source": [
    "country = \"Pakistan\""
   ]
  },
  {
   "cell_type": "code",
   "execution_count": 12,
   "metadata": {},
   "outputs": [
    {
     "name": "stdout",
     "output_type": "stream",
     "text": [
      "P\n",
      "a\n",
      "k\n",
      "i\n",
      "s\n",
      "t\n",
      "a\n",
      "n\n"
     ]
    }
   ],
   "source": [
    "for char in country:\n",
    "    print(char)"
   ]
  },
  {
   "cell_type": "code",
   "execution_count": 13,
   "metadata": {},
   "outputs": [
    {
     "name": "stdout",
     "output_type": "stream",
     "text": [
      "0\n"
     ]
    }
   ],
   "source": [
    "for number in range(10):\n",
    "    if number %3==1:\n",
    "        break\n",
    "    print(number)"
   ]
  },
  {
   "cell_type": "code",
   "execution_count": 14,
   "metadata": {},
   "outputs": [
    {
     "name": "stdout",
     "output_type": "stream",
     "text": [
      "0\n",
      "1\n",
      "2\n",
      "3\n",
      "5\n",
      "6\n",
      "8\n",
      "9\n"
     ]
    }
   ],
   "source": [
    "for numbers in range(10):\n",
    "    if numbers==7 or numbers==4:\n",
    "        continue\n",
    "    print(numbers)"
   ]
  },
  {
   "cell_type": "code",
   "execution_count": 15,
   "metadata": {},
   "outputs": [],
   "source": [
    "city_to_check = \"Faislabad\"\n",
    "cleanest_city = [\"Karachi\", \"Faislabad\", \"Islamabad\", \"Lahore\", \"Multan\"]"
   ]
  },
  {
   "cell_type": "code",
   "execution_count": 16,
   "metadata": {},
   "outputs": [
    {
     "name": "stdout",
     "output_type": "stream",
     "text": [
      "Faislabad is one of the cleanest cities\n"
     ]
    }
   ],
   "source": [
    "for a_clean_city in cleanest_city:\n",
    "    if city_to_check == a_clean_city:\n",
    "        print(\"{} is one of the cleanest cities\".format(city_to_check))\n",
    "    "
   ]
  },
  {
   "cell_type": "code",
   "execution_count": 17,
   "metadata": {},
   "outputs": [
    {
     "name": "stdout",
     "output_type": "stream",
     "text": [
      "0\n",
      "5\n",
      "10\n",
      "15\n",
      "20\n",
      "25\n",
      "30\n",
      "35\n",
      "40\n",
      "45\n"
     ]
    }
   ],
   "source": [
    "for a in range(0,50,5):\n",
    "    print(a)"
   ]
  },
  {
   "cell_type": "code",
   "execution_count": 18,
   "metadata": {},
   "outputs": [
    {
     "name": "stdout",
     "output_type": "stream",
     "text": [
      "['Ali Mustafa', 'Ali Ibrahim', 'Ali Moosa', 'Ali Ijaz', 'Ali Kazim', 'Kasim Mustafa', 'Kasim Ibrahim', 'Kasim Moosa', 'Kasim Ijaz', 'Kasim Kazim', 'Zia Mustafa', 'Zia Ibrahim', 'Zia Moosa', 'Zia Ijaz', 'Zia Kazim', 'Jafar Mustafa', 'Jafar Ibrahim', 'Jafar Moosa', 'Jafar Ijaz', 'Jafar Kazim']\n"
     ]
    }
   ],
   "source": [
    "#Nested Loop\n",
    "first_name = [\"Ali\", \"Kasim\", \"Zia\", \"Jafar\"]\n",
    "last_name = [\"Mustafa\", \"Ibrahim\", \"Moosa\", \"Ijaz\", \"Kazim\"]\n",
    "full_name = []\n",
    "for a_first_name in first_name:\n",
    "    for a_last_name in last_name:\n",
    "        full_name.append(a_first_name + \" \" + a_last_name)\n",
    "print(full_name)"
   ]
  },
  {
   "cell_type": "code",
   "execution_count": 19,
   "metadata": {},
   "outputs": [
    {
     "name": "stdout",
     "output_type": "stream",
     "text": [
      "10.0\n"
     ]
    }
   ],
   "source": [
    "a = 10\n",
    "b = float(a)\n",
    "print(b)"
   ]
  },
  {
   "cell_type": "code",
   "execution_count": 20,
   "metadata": {},
   "outputs": [
    {
     "name": "stdout",
     "output_type": "stream",
     "text": [
      "Inner loop begins\n",
      "0 C\n",
      "0 h\n",
      "0 i\n",
      "0 n\n",
      "0 a\n",
      "Inner loop begins\n",
      "1 C\n",
      "1 h\n",
      "1 i\n",
      "1 n\n",
      "1 a\n",
      "Inner loop begins\n",
      "2 C\n",
      "2 h\n",
      "2 i\n",
      "2 n\n",
      "2 a\n",
      "Inner loop begins\n",
      "3 C\n",
      "3 h\n",
      "3 i\n",
      "3 n\n",
      "3 a\n",
      "Inner loop begins\n",
      "4 C\n",
      "4 h\n",
      "4 i\n",
      "4 n\n",
      "4 a\n"
     ]
    }
   ],
   "source": [
    "for a in range(5):\n",
    "    print(\"Inner loop begins\")\n",
    "    for char in \"China\":\n",
    "        print(a, char)"
   ]
  },
  {
   "cell_type": "code",
   "execution_count": 38,
   "metadata": {},
   "outputs": [
    {
     "name": "stdout",
     "output_type": "stream",
     "text": [
      "Enter Table Number: 5\n",
      "5 * 1 = 5\n",
      "5 * 2 = 10\n",
      "5 * 3 = 15\n",
      "5 * 4 = 20\n",
      "5 * 5 = 25\n",
      "5 * 6 = 30\n",
      "5 * 7 = 35\n",
      "5 * 8 = 40\n",
      "5 * 9 = 45\n"
     ]
    }
   ],
   "source": [
    "table = int(input(\"Enter Table Number: \"))\n",
    "for a in range(1,10):\n",
    "    print(table, \"*\", a, \"=\" ,table * a)"
   ]
  },
  {
   "cell_type": "code",
   "execution_count": 43,
   "metadata": {},
   "outputs": [
    {
     "name": "stdout",
     "output_type": "stream",
     "text": [
      "Enter table number 5\n",
      "5 * 1 = 5\n",
      "5 * 2 = 10\n",
      "5 * 3 = 15\n",
      "5 * 4 = 20\n",
      "5 * 5 = 25\n",
      "5 * 6 = 30\n",
      "5 * 7 = 35\n",
      "5 * 8 = 40\n",
      "5 * 9 = 45\n",
      "5 * 10 = 50\n"
     ]
    }
   ],
   "source": [
    "table_number = int(input(\"Enter table number \"))\n",
    "for a in range(1,11):\n",
    "    print(f\"{table_number} * {a} = {table_number * a}\")"
   ]
  },
  {
   "cell_type": "code",
   "execution_count": 52,
   "metadata": {},
   "outputs": [
    {
     "name": "stdout",
     "output_type": "stream",
     "text": [
      "Enter tables 4\n",
      "2 * 1 = 2\n",
      "2 * 2 = 4\n",
      "2 * 3 = 6\n",
      "2 * 4 = 8\n",
      "2 * 5 = 10\n",
      "2 * 6 = 12\n",
      "2 * 7 = 14\n",
      "2 * 8 = 16\n",
      "2 * 9 = 18\n",
      "2 * 10 = 20\n",
      "3 * 1 = 3\n",
      "3 * 2 = 6\n",
      "3 * 3 = 9\n",
      "3 * 4 = 12\n",
      "3 * 5 = 15\n",
      "3 * 6 = 18\n",
      "3 * 7 = 21\n",
      "3 * 8 = 24\n",
      "3 * 9 = 27\n",
      "3 * 10 = 30\n",
      "4 * 1 = 4\n",
      "4 * 2 = 8\n",
      "4 * 3 = 12\n",
      "4 * 4 = 16\n",
      "4 * 5 = 20\n",
      "4 * 6 = 24\n",
      "4 * 7 = 28\n",
      "4 * 8 = 32\n",
      "4 * 9 = 36\n",
      "4 * 10 = 40\n"
     ]
    }
   ],
   "source": [
    "tables = int(input(\"Enter tables \"))\n",
    "for table in range (2, tables+1):\n",
    "    for num in range(1,11):\n",
    "        print(f\"{table} * {num} = {table*num}\")"
   ]
  },
  {
   "cell_type": "code",
   "execution_count": 61,
   "metadata": {},
   "outputs": [
    {
     "name": "stdout",
     "output_type": "stream",
     "text": [
      "Enter something 123\n"
     ]
    },
    {
     "data": {
      "text/plain": [
       "str"
      ]
     },
     "execution_count": 61,
     "metadata": {},
     "output_type": "execute_result"
    }
   ],
   "source": [
    "#Type Casting\n",
    "userInput = input(\"Enter something \")  #input always give string reslult\n",
    "type(userInput)"
   ]
  },
  {
   "cell_type": "code",
   "execution_count": 67,
   "metadata": {},
   "outputs": [
    {
     "name": "stdout",
     "output_type": "stream",
     "text": [
      "yousuf\n",
      "Yousuf\n",
      "YOUSUF\n"
     ]
    }
   ],
   "source": [
    "#Changing case\n",
    "name_a = \"yOusUf\"\n",
    "print(name_a.lower())\n",
    "print(name_a.title())\n",
    "print(name_a.upper())"
   ]
  },
  {
   "cell_type": "code",
   "execution_count": 4,
   "metadata": {},
   "outputs": [
    {
     "name": "stdout",
     "output_type": "stream",
     "text": [
      "\n",
      "    PIAIC STUDENT CARD\n",
      "    Roll No: 10120\n",
      "    Name: Ijaz\n",
      "    Father's Name: Akbar\n",
      "    Course: A.I\n",
      "    \n",
      "\n",
      "    PIAIC STUDENT CARD\n",
      "    Roll No: 10121\n",
      "    Name: Habib\n",
      "    Father's Name: Omer\n",
      "    Course: CNC\n",
      "    \n",
      "\n",
      "    PIAIC STUDENT CARD\n",
      "    Roll No: 10122\n",
      "    Name: Aman\n",
      "    Father's Name: Aslam\n",
      "    Course: IOT\n",
      "    \n"
     ]
    }
   ],
   "source": [
    "database = [\n",
    "    [10120, \"Ijaz\", \"Akbar\",\"A.I\" ],\n",
    "    [10121, \"Habib\", \"Omer\",\"CNC\" ],\n",
    "    [10122, \"Aman\", \"Aslam\",\"IOT\" ]\n",
    "]\n",
    "for r in database:\n",
    "    card = '''\n",
    "    PIAIC STUDENT CARD\n",
    "    Roll No: {0}\n",
    "    Name: {1}\n",
    "    Father's Name: {2}\n",
    "    Course: {3}\n",
    "    '''.format(r[0],r[1],r[2],r[3])\n",
    "    print(card)"
   ]
  },
  {
   "cell_type": "markdown",
   "metadata": {},
   "source": [
    "# Dictionary "
   ]
  },
  {
   "cell_type": "code",
   "execution_count": 70,
   "metadata": {},
   "outputs": [
    {
     "name": "stdout",
     "output_type": "stream",
     "text": [
      "Silicon Valley, California\n"
     ]
    }
   ],
   "source": [
    "customer = {\n",
    "    \"first name\": \"Ali\",\n",
    "    # key         Value\n",
    "    \"last name\": \"Akbar\",\n",
    "    \"address\": \"Silicon Valley, California\"\n",
    "}\n",
    "print(customer[\"address\"])"
   ]
  },
  {
   "cell_type": "code",
   "execution_count": 1,
   "metadata": {},
   "outputs": [],
   "source": [
    "customer_299182 = {\n",
    "    \"first_name\": \"Ijaz\",\n",
    "    \"last_name\": \"Aslma\",\n",
    "    \"address\": \"Hyderabad\",\n",
    "    \"province\": \"Sindh\",\n",
    "    \"country\": \"Pakistan\",\n",
    "    \"postal_code\": 12412\n",
    "}"
   ]
  },
  {
   "cell_type": "code",
   "execution_count": 4,
   "metadata": {},
   "outputs": [
    {
     "name": "stdout",
     "output_type": "stream",
     "text": [
      "Hyderabad\n"
     ]
    }
   ],
   "source": [
    "print(customer_299182[\"address\"])"
   ]
  },
  {
   "cell_type": "code",
   "execution_count": 5,
   "metadata": {},
   "outputs": [],
   "source": [
    "customer_299182[\"contact_num\"] = 1532513"
   ]
  },
  {
   "cell_type": "code",
   "execution_count": 6,
   "metadata": {},
   "outputs": [
    {
     "data": {
      "text/plain": [
       "{'first_name': 'Ijaz',\n",
       " 'last_name': 'Aslma',\n",
       " 'address': 'Hyderabad',\n",
       " 'province': 'Sindh',\n",
       " 'country': 'Pakistan',\n",
       " 'postal_code': 12412,\n",
       " 'contact_num': 1532513}"
      ]
     },
     "execution_count": 6,
     "metadata": {},
     "output_type": "execute_result"
    }
   ],
   "source": [
    "customer_299182"
   ]
  },
  {
   "cell_type": "code",
   "execution_count": 7,
   "metadata": {},
   "outputs": [],
   "source": [
    "del customer_299182[\"address\"]"
   ]
  },
  {
   "cell_type": "code",
   "execution_count": 8,
   "metadata": {},
   "outputs": [
    {
     "data": {
      "text/plain": [
       "{'first_name': 'Ijaz',\n",
       " 'last_name': 'Aslma',\n",
       " 'province': 'Sindh',\n",
       " 'country': 'Pakistan',\n",
       " 'postal_code': 12412,\n",
       " 'contact_num': 1532513}"
      ]
     },
     "execution_count": 8,
     "metadata": {},
     "output_type": "execute_result"
    }
   ],
   "source": [
    "customer_299182"
   ]
  },
  {
   "cell_type": "code",
   "execution_count": 9,
   "metadata": {},
   "outputs": [],
   "source": [
    "customer_299182[\"province\"] = \"Punjab\""
   ]
  },
  {
   "cell_type": "code",
   "execution_count": 10,
   "metadata": {},
   "outputs": [
    {
     "data": {
      "text/plain": [
       "{'first_name': 'Ijaz',\n",
       " 'last_name': 'Aslma',\n",
       " 'province': 'Punjab',\n",
       " 'country': 'Pakistan',\n",
       " 'postal_code': 12412,\n",
       " 'contact_num': 1532513}"
      ]
     },
     "execution_count": 10,
     "metadata": {},
     "output_type": "execute_result"
    }
   ],
   "source": [
    "customer_299182"
   ]
  },
  {
   "cell_type": "code",
   "execution_count": 15,
   "metadata": {},
   "outputs": [
    {
     "name": "stdout",
     "output_type": "stream",
     "text": [
      "Ijaz\n",
      "Aslma\n",
      "Punjab\n",
      "Pakistan\n",
      "12412\n",
      "1532513\n"
     ]
    }
   ],
   "source": [
    "for each_value in customer_299182.values():\n",
    "    print(each_value)"
   ]
  },
  {
   "cell_type": "code",
   "execution_count": 16,
   "metadata": {},
   "outputs": [
    {
     "name": "stdout",
     "output_type": "stream",
     "text": [
      "first_name\n",
      "last_name\n",
      "province\n",
      "country\n",
      "postal_code\n",
      "contact_num\n"
     ]
    }
   ],
   "source": [
    "for each_key in customer_299182.keys():\n",
    "    print(each_key)"
   ]
  },
  {
   "cell_type": "code",
   "execution_count": 17,
   "metadata": {},
   "outputs": [
    {
     "data": {
      "text/plain": [
       "{'first_name': 'Ijaz',\n",
       " 'last_name': 'Aslma',\n",
       " 'province': 'Punjab',\n",
       " 'country': 'Pakistan',\n",
       " 'postal_code': 12412,\n",
       " 'contact_num': 1532513}"
      ]
     },
     "execution_count": 17,
     "metadata": {},
     "output_type": "execute_result"
    }
   ],
   "source": [
    "customer_299182"
   ]
  },
  {
   "cell_type": "code",
   "execution_count": 22,
   "metadata": {},
   "outputs": [
    {
     "name": "stdout",
     "output_type": "stream",
     "text": [
      "The customer's first_name is Ijaz\n",
      "The customer's last_name is Aslma\n",
      "The customer's province is Punjab\n",
      "The customer's country is Pakistan\n",
      "The customer's postal_code is 12412\n",
      "The customer's contact_num is 1532513\n"
     ]
    }
   ],
   "source": [
    "for ech_key, ech_value in customer_299182.items():\n",
    "    print(f\"The customer's {ech_key} is {ech_value}\")"
   ]
  },
  {
   "cell_type": "code",
   "execution_count": 23,
   "metadata": {},
   "outputs": [
    {
     "data": {
      "text/plain": [
       "'contact_num'"
      ]
     },
     "execution_count": 23,
     "metadata": {},
     "output_type": "execute_result"
    }
   ],
   "source": [
    "ech_key"
   ]
  },
  {
   "cell_type": "code",
   "execution_count": 24,
   "metadata": {},
   "outputs": [
    {
     "data": {
      "text/plain": [
       "1532513"
      ]
     },
     "execution_count": 24,
     "metadata": {},
     "output_type": "execute_result"
    }
   ],
   "source": [
    "ech_value"
   ]
  },
  {
   "cell_type": "code",
   "execution_count": 26,
   "metadata": {},
   "outputs": [],
   "source": [
    "customers = [\n",
    "    {\n",
    "        \"customer_id\": 1,\n",
    "        \"first_name\": \"Ibrahim\",\n",
    "        \"last_name\": \"Moosa\",\n",
    "        \"city\": \"Karachi\",\n",
    "    },\n",
    "    {\n",
    "        \"customer_id\": 2,\n",
    "        \"first_name\": \"Aziz\",\n",
    "        \"last_name\": \"Aslam\",\n",
    "        \"city\": \"Faisalabad\",\n",
    "    },\n",
    "    {\n",
    "        \"customer_id\": 3,\n",
    "        \"first_name\": \"Amber\",\n",
    "        \"last_name\": \"Qasim\",\n",
    "        \"city\": \"Quetta\",\n",
    "    }\n",
    "]"
   ]
  },
  {
   "cell_type": "code",
   "execution_count": 27,
   "metadata": {},
   "outputs": [
    {
     "data": {
      "text/plain": [
       "[{'customer_id': 1,\n",
       "  'first_name': 'Ibrahim',\n",
       "  'last_name': 'Moosa',\n",
       "  'city': 'Karachi'},\n",
       " {'customer_id': 2,\n",
       "  'first_name': 'Aziz',\n",
       "  'last_name': 'Aslam',\n",
       "  'city': 'Faisalabad'},\n",
       " {'customer_id': 3,\n",
       "  'first_name': 'Amber',\n",
       "  'last_name': 'Qasim',\n",
       "  'city': 'Quetta'}]"
      ]
     },
     "execution_count": 27,
     "metadata": {},
     "output_type": "execute_result"
    }
   ],
   "source": [
    "customers"
   ]
  },
  {
   "cell_type": "code",
   "execution_count": 28,
   "metadata": {},
   "outputs": [
    {
     "data": {
      "text/plain": [
       "{'customer_id': 1,\n",
       " 'first_name': 'Ibrahim',\n",
       " 'last_name': 'Moosa',\n",
       " 'city': 'Karachi'}"
      ]
     },
     "execution_count": 28,
     "metadata": {},
     "output_type": "execute_result"
    }
   ],
   "source": [
    "customers[0]"
   ]
  },
  {
   "cell_type": "code",
   "execution_count": 29,
   "metadata": {},
   "outputs": [
    {
     "data": {
      "text/plain": [
       "3"
      ]
     },
     "execution_count": 29,
     "metadata": {},
     "output_type": "execute_result"
    }
   ],
   "source": [
    "len(customers)"
   ]
  },
  {
   "cell_type": "code",
   "execution_count": 30,
   "metadata": {},
   "outputs": [],
   "source": [
    "new_customer_id = len(customers)"
   ]
  },
  {
   "cell_type": "code",
   "execution_count": 31,
   "metadata": {},
   "outputs": [
    {
     "data": {
      "text/plain": [
       "[{'customer_id': 1,\n",
       "  'first_name': 'Ibrahim',\n",
       "  'last_name': 'Moosa',\n",
       "  'city': 'Karachi'},\n",
       " {'customer_id': 2,\n",
       "  'first_name': 'Aziz',\n",
       "  'last_name': 'Aslam',\n",
       "  'city': 'Faisalabad'},\n",
       " {'customer_id': 3,\n",
       "  'first_name': 'Amber',\n",
       "  'last_name': 'Qasim',\n",
       "  'city': 'Quetta'}]"
      ]
     },
     "execution_count": 31,
     "metadata": {},
     "output_type": "execute_result"
    }
   ],
   "source": [
    "customers"
   ]
  },
  {
   "cell_type": "code",
   "execution_count": 32,
   "metadata": {},
   "outputs": [],
   "source": [
    "customers = {\n",
    "    \"abc\":{\n",
    "        \"customer_id\": 1,\n",
    "        \"first_name\": \"Ibrahim\",\n",
    "        \"last_name\": \"Moosa\",\n",
    "        \"city\": \"Karachi\",\n",
    "    },\n",
    "    \"efg\":{\n",
    "        \"customer_id\": 2,\n",
    "        \"first_name\": \"Aziz\",\n",
    "        \"last_name\": \"Aslam\",\n",
    "        \"city\": \"Faisalabad\",\n",
    "    },\n",
    "    \"xyz\":{\n",
    "        \"customer_id\": 3,\n",
    "        \"first_name\": \"Amber\",\n",
    "        \"last_name\": \"Qasim\",\n",
    "        \"city\": \"Quetta\",\n",
    "    }\n",
    "}"
   ]
  },
  {
   "cell_type": "code",
   "execution_count": 40,
   "metadata": {},
   "outputs": [
    {
     "name": "stdout",
     "output_type": "stream",
     "text": [
      "Faisalabad\n"
     ]
    }
   ],
   "source": [
    "print(customers[2][\"city\"])"
   ]
  },
  {
   "cell_type": "code",
   "execution_count": 41,
   "metadata": {},
   "outputs": [],
   "source": [
    "customers[2][\"city\"] = \"Lahore\""
   ]
  },
  {
   "cell_type": "code",
   "execution_count": 42,
   "metadata": {},
   "outputs": [
    {
     "data": {
      "text/plain": [
       "'Lahore'"
      ]
     },
     "execution_count": 42,
     "metadata": {},
     "output_type": "execute_result"
    }
   ],
   "source": [
    "customers[2][\"city\"]"
   ]
  },
  {
   "cell_type": "code",
   "execution_count": 43,
   "metadata": {},
   "outputs": [
    {
     "data": {
      "text/plain": [
       "{1: {'customer_id': 1,\n",
       "  'first_name': 'Ibrahim',\n",
       "  'last_name': 'Moosa',\n",
       "  'city': 'Karachi'},\n",
       " 2: {'customer_id': 2,\n",
       "  'first_name': 'Aziz',\n",
       "  'last_name': 'Aslam',\n",
       "  'city': 'Lahore'},\n",
       " 3: {'customer_id': 3,\n",
       "  'first_name': 'Amber',\n",
       "  'last_name': 'Qasim',\n",
       "  'city': 'Quetta'}}"
      ]
     },
     "execution_count": 43,
     "metadata": {},
     "output_type": "execute_result"
    }
   ],
   "source": [
    "customers"
   ]
  },
  {
   "cell_type": "code",
   "execution_count": 48,
   "metadata": {},
   "outputs": [
    {
     "name": "stdout",
     "output_type": "stream",
     "text": [
      "<class 'int'>\n"
     ]
    }
   ],
   "source": [
    "print(type(customers[2][\"customer_id\"]))"
   ]
  },
  {
   "cell_type": "code",
   "execution_count": 49,
   "metadata": {},
   "outputs": [
    {
     "data": {
      "text/plain": [
       "3"
      ]
     },
     "execution_count": 49,
     "metadata": {},
     "output_type": "execute_result"
    }
   ],
   "source": [
    "len(customers)"
   ]
  },
  {
   "cell_type": "code",
   "execution_count": 50,
   "metadata": {},
   "outputs": [],
   "source": [
    "customers[2][\"email\"] = \"abc@gmail.com\""
   ]
  },
  {
   "cell_type": "code",
   "execution_count": 51,
   "metadata": {},
   "outputs": [
    {
     "data": {
      "text/plain": [
       "{1: {'customer_id': 1,\n",
       "  'first_name': 'Ibrahim',\n",
       "  'last_name': 'Moosa',\n",
       "  'city': 'Karachi'},\n",
       " 2: {'customer_id': 2,\n",
       "  'first_name': 'Aziz',\n",
       "  'last_name': 'Aslam',\n",
       "  'city': 'Lahore',\n",
       "  'email': 'abc@gmail.com'},\n",
       " 3: {'customer_id': 3,\n",
       "  'first_name': 'Amber',\n",
       "  'last_name': 'Qasim',\n",
       "  'city': 'Quetta'}}"
      ]
     },
     "execution_count": 51,
     "metadata": {},
     "output_type": "execute_result"
    }
   ],
   "source": [
    "customers"
   ]
  },
  {
   "cell_type": "code",
   "execution_count": 52,
   "metadata": {},
   "outputs": [
    {
     "data": {
      "text/plain": [
       "{'customer_id': 3,\n",
       " 'first_name': 'Amber',\n",
       " 'last_name': 'Qasim',\n",
       " 'city': 'Quetta'}"
      ]
     },
     "execution_count": 52,
     "metadata": {},
     "output_type": "execute_result"
    }
   ],
   "source": [
    "customers[3]"
   ]
  },
  {
   "cell_type": "code",
   "execution_count": 53,
   "metadata": {},
   "outputs": [],
   "source": [
    "customer_3 = customers[3]"
   ]
  },
  {
   "cell_type": "code",
   "execution_count": 54,
   "metadata": {},
   "outputs": [
    {
     "data": {
      "text/plain": [
       "{'customer_id': 3,\n",
       " 'first_name': 'Amber',\n",
       " 'last_name': 'Qasim',\n",
       " 'city': 'Quetta'}"
      ]
     },
     "execution_count": 54,
     "metadata": {},
     "output_type": "execute_result"
    }
   ],
   "source": [
    "customer_3"
   ]
  },
  {
   "cell_type": "code",
   "execution_count": 56,
   "metadata": {},
   "outputs": [
    {
     "name": "stdout",
     "output_type": "stream",
     "text": [
      "Amber\n"
     ]
    }
   ],
   "source": [
    "print(customer_3[\"first_name\"])"
   ]
  },
  {
   "cell_type": "code",
   "execution_count": 57,
   "metadata": {},
   "outputs": [
    {
     "data": {
      "text/plain": [
       "{'customer_id': 3,\n",
       " 'first_name': 'Amber',\n",
       " 'last_name': 'Qasim',\n",
       " 'city': 'Quetta',\n",
       " 'email': 'amqs@gmail.com'}"
      ]
     },
     "execution_count": 57,
     "metadata": {},
     "output_type": "execute_result"
    }
   ],
   "source": [
    "customer_3[\"email\"] = \"amqs@gmail.com\"\n",
    "customer_3"
   ]
  },
  {
   "cell_type": "code",
   "execution_count": 58,
   "metadata": {},
   "outputs": [],
   "source": [
    "customer_3[\"class\"] = \"AI \"\n"
   ]
  },
  {
   "cell_type": "code",
   "execution_count": 59,
   "metadata": {},
   "outputs": [
    {
     "data": {
      "text/plain": [
       "{'customer_id': 3,\n",
       " 'first_name': 'Amber',\n",
       " 'last_name': 'Qasim',\n",
       " 'city': 'Quetta',\n",
       " 'email': 'amqs@gmail.com',\n",
       " 'class': 'AI '}"
      ]
     },
     "execution_count": 59,
     "metadata": {},
     "output_type": "execute_result"
    }
   ],
   "source": [
    "customer_3"
   ]
  },
  {
   "cell_type": "code",
   "execution_count": 60,
   "metadata": {},
   "outputs": [],
   "source": [
    "customer_3[\"class\"] = \"Cloud Native Computing\"\n"
   ]
  },
  {
   "cell_type": "code",
   "execution_count": 61,
   "metadata": {},
   "outputs": [
    {
     "data": {
      "text/plain": [
       "{'customer_id': 3,\n",
       " 'first_name': 'Amber',\n",
       " 'last_name': 'Qasim',\n",
       " 'city': 'Quetta',\n",
       " 'email': 'amqs@gmail.com',\n",
       " 'class': 'Cloud Native Computing'}"
      ]
     },
     "execution_count": 61,
     "metadata": {},
     "output_type": "execute_result"
    }
   ],
   "source": [
    "customer_3"
   ]
  },
  {
   "cell_type": "code",
   "execution_count": 62,
   "metadata": {},
   "outputs": [],
   "source": [
    "customer_3[\"batch\"] = 23\n"
   ]
  },
  {
   "cell_type": "code",
   "execution_count": 63,
   "metadata": {},
   "outputs": [
    {
     "data": {
      "text/plain": [
       "{'customer_id': 3,\n",
       " 'first_name': 'Amber',\n",
       " 'last_name': 'Qasim',\n",
       " 'city': 'Quetta',\n",
       " 'email': 'amqs@gmail.com',\n",
       " 'class': 'Cloud Native Computing',\n",
       " 'batch': 23}"
      ]
     },
     "execution_count": 63,
     "metadata": {},
     "output_type": "execute_result"
    }
   ],
   "source": [
    "customer_3"
   ]
  },
  {
   "cell_type": "code",
   "execution_count": 67,
   "metadata": {},
   "outputs": [
    {
     "name": "stdout",
     "output_type": "stream",
     "text": [
      "{'customer_id': 3, 'first_name': 'Amber', 'last_name': 'Qasim', 'city': 'Quetta', 'class': 'Cloud Native Computing', 'batch': 23}\n"
     ]
    }
   ],
   "source": [
    "print(customer_3)"
   ]
  },
  {
   "cell_type": "code",
   "execution_count": 69,
   "metadata": {},
   "outputs": [
    {
     "data": {
      "text/plain": [
       "True"
      ]
     },
     "execution_count": 69,
     "metadata": {},
     "output_type": "execute_result"
    }
   ],
   "source": [
    "\"first_name\" in customer_3"
   ]
  },
  {
   "cell_type": "code",
   "execution_count": 71,
   "metadata": {},
   "outputs": [],
   "source": [
    "customer_4 = customer_299182"
   ]
  },
  {
   "cell_type": "code",
   "execution_count": 72,
   "metadata": {},
   "outputs": [
    {
     "data": {
      "text/plain": [
       "{'first_name': 'Ijaz',\n",
       " 'last_name': 'Aslma',\n",
       " 'province': 'Punjab',\n",
       " 'country': 'Pakistan',\n",
       " 'postal_code': 12412,\n",
       " 'contact_num': 1532513}"
      ]
     },
     "execution_count": 72,
     "metadata": {},
     "output_type": "execute_result"
    }
   ],
   "source": [
    "customer_299182"
   ]
  },
  {
   "cell_type": "code",
   "execution_count": 75,
   "metadata": {},
   "outputs": [
    {
     "name": "stdout",
     "output_type": "stream",
     "text": [
      "Ijaz\n",
      "Aslma\n",
      "Punjab\n",
      "Pakistan\n",
      "12412\n",
      "1532513\n"
     ]
    }
   ],
   "source": [
    "for each_val in customer_4.values():\n",
    "    print(each_val)"
   ]
  },
  {
   "cell_type": "code",
   "execution_count": 76,
   "metadata": {},
   "outputs": [
    {
     "name": "stdout",
     "output_type": "stream",
     "text": [
      "first_name\n",
      "last_name\n",
      "province\n",
      "country\n",
      "postal_code\n",
      "contact_num\n"
     ]
    }
   ],
   "source": [
    "for each_key in customer_4.keys():\n",
    "    print(each_key)"
   ]
  },
  {
   "cell_type": "code",
   "execution_count": 77,
   "metadata": {},
   "outputs": [
    {
     "name": "stdout",
     "output_type": "stream",
     "text": [
      "first_name Ijaz\n",
      "last_name Aslma\n",
      "province Punjab\n",
      "country Pakistan\n",
      "postal_code 12412\n",
      "contact_num 1532513\n"
     ]
    }
   ],
   "source": [
    "for each_val, each_key in customer_4.items():\n",
    "    print(each_val, each_key)"
   ]
  },
  {
   "cell_type": "code",
   "execution_count": 78,
   "metadata": {},
   "outputs": [],
   "source": [
    "students = []"
   ]
  },
  {
   "cell_type": "code",
   "execution_count": 80,
   "metadata": {},
   "outputs": [],
   "source": [
    "students.append({\"name\": \"Ali\", \"rollNo\": 213143, \"courseBatch\": \"AIC 43\" })"
   ]
  },
  {
   "cell_type": "code",
   "execution_count": 81,
   "metadata": {},
   "outputs": [],
   "source": [
    "students.append({\"name\": \"Qasim\", \"rollNo\": 123143, \"courseBatch\": \"AIC 43\" })"
   ]
  },
  {
   "cell_type": "code",
   "execution_count": 82,
   "metadata": {},
   "outputs": [],
   "source": [
    "students.append({\"name\": \"Ahtisham\", \"rollNo\": 315624, \"courseBatch\": \"CNC 43\" })"
   ]
  },
  {
   "cell_type": "code",
   "execution_count": 83,
   "metadata": {},
   "outputs": [
    {
     "data": {
      "text/plain": [
       "[{'name': 'Ali', 'rollNo': 213143, 'courseBatch': 'AIC 43'},\n",
       " {'name': 'Qasim', 'rollNo': 123143, 'courseBatch': 'AIC 43'},\n",
       " {'name': 'Ahtisham', 'rollNo': 315624, 'courseBatch': 'CNC 43'}]"
      ]
     },
     "execution_count": 83,
     "metadata": {},
     "output_type": "execute_result"
    }
   ],
   "source": [
    "students"
   ]
  },
  {
   "cell_type": "code",
   "execution_count": 85,
   "metadata": {},
   "outputs": [
    {
     "data": {
      "text/plain": [
       "213143"
      ]
     },
     "execution_count": 85,
     "metadata": {},
     "output_type": "execute_result"
    }
   ],
   "source": [
    "students[0][\"rollNo\"]"
   ]
  },
  {
   "cell_type": "code",
   "execution_count": 86,
   "metadata": {},
   "outputs": [],
   "source": [
    "students[0][\"rollNo\"] = 123465"
   ]
  },
  {
   "cell_type": "code",
   "execution_count": 87,
   "metadata": {},
   "outputs": [
    {
     "data": {
      "text/plain": [
       "[{'name': 'Ali', 'rollNo': 123465, 'courseBatch': 'AIC 43'},\n",
       " {'name': 'Qasim', 'rollNo': 123143, 'courseBatch': 'AIC 43'},\n",
       " {'name': 'Ahtisham', 'rollNo': 315624, 'courseBatch': 'CNC 43'}]"
      ]
     },
     "execution_count": 87,
     "metadata": {},
     "output_type": "execute_result"
    }
   ],
   "source": [
    "students"
   ]
  },
  {
   "cell_type": "code",
   "execution_count": 89,
   "metadata": {},
   "outputs": [],
   "source": [
    "myDic312 = {\n",
    "    \"name\": \"Saleem\",\n",
    "    \"childrenNames\": [\"Ahad\", \"Sara\", \"Sidra\", \"Majeed\"]\n",
    "}"
   ]
  },
  {
   "cell_type": "code",
   "execution_count": 90,
   "metadata": {},
   "outputs": [
    {
     "data": {
      "text/plain": [
       "{'name': 'Saleem', 'childrenNames': ['Ahad', 'Sara', 'Sidra', 'Majeed']}"
      ]
     },
     "execution_count": 90,
     "metadata": {},
     "output_type": "execute_result"
    }
   ],
   "source": [
    "myDic312"
   ]
  },
  {
   "cell_type": "code",
   "execution_count": 92,
   "metadata": {},
   "outputs": [
    {
     "name": "stdout",
     "output_type": "stream",
     "text": [
      "Sidra\n"
     ]
    }
   ],
   "source": [
    "print(myDic312[\"childrenNames\"][2])"
   ]
  },
  {
   "cell_type": "code",
   "execution_count": 94,
   "metadata": {},
   "outputs": [],
   "source": [
    "myDic312[\"Age\"] = 40"
   ]
  },
  {
   "cell_type": "code",
   "execution_count": 95,
   "metadata": {},
   "outputs": [
    {
     "data": {
      "text/plain": [
       "{'name': 'Saleem',\n",
       " 'childrenNames': ['Ahad', 'Sara', 'Sidra', 'Majeed'],\n",
       " 'Age': 40}"
      ]
     },
     "execution_count": 95,
     "metadata": {},
     "output_type": "execute_result"
    }
   ],
   "source": [
    "myDic312"
   ]
  },
  {
   "cell_type": "code",
   "execution_count": 97,
   "metadata": {},
   "outputs": [
    {
     "data": {
      "text/plain": [
       "{'name': 'Saleem',\n",
       " 'childrenNames': ['Ahad', 'Sara', 'Ijaz', 'Majeed'],\n",
       " 'Age': 40}"
      ]
     },
     "execution_count": 97,
     "metadata": {},
     "output_type": "execute_result"
    }
   ],
   "source": [
    "myDic312[\"childrenNames\"][2] = \"Ijaz\"\n",
    "myDic312"
   ]
  },
  {
   "cell_type": "code",
   "execution_count": 107,
   "metadata": {},
   "outputs": [
    {
     "data": {
      "text/plain": [
       "{'name': 'Saleem',\n",
       " 'childrenNames': ['Ahad', 'Sara', ['Sidra', 'Yasir']],\n",
       " 'Age': 40}"
      ]
     },
     "execution_count": 107,
     "metadata": {},
     "output_type": "execute_result"
    }
   ],
   "source": [
    "myDic312[\"childrenNames\"][2] = [\"Sidra\", \"Yasir\"]\n",
    "myDic312"
   ]
  },
  {
   "cell_type": "code",
   "execution_count": 111,
   "metadata": {},
   "outputs": [],
   "source": [
    "myDic312[\"childrenNames\"][2] = \"Samrah\""
   ]
  },
  {
   "cell_type": "code",
   "execution_count": 112,
   "metadata": {},
   "outputs": [
    {
     "data": {
      "text/plain": [
       "{'name': 'Saleem', 'childrenNames': ['Ahad', 'Sara', 'Samrah'], 'Age': 40}"
      ]
     },
     "execution_count": 112,
     "metadata": {},
     "output_type": "execute_result"
    }
   ],
   "source": [
    "myDic312"
   ]
  },
  {
   "cell_type": "code",
   "execution_count": 117,
   "metadata": {},
   "outputs": [],
   "source": [
    "questions123 = [\n",
    "    {\n",
    "        \"S.No\": 1,\n",
    "        \"question\": \"What is your country name\",\n",
    "        \"option\": [\"Pakistan\", \"USA\", \"UAE\", \"America\"],\n",
    "        \"answer\": \"Pakistan\"\n",
    "    },\n",
    "    {\n",
    "        \"S.No\": 2,\n",
    "        \"question\": \"What is your country name\",\n",
    "        \"option\": [\"Pakistan\", \"USA\", \"UAE\", \"America\"],\n",
    "        \"answer\": \"Pakistan\"\n",
    "    },\n",
    "    {\n",
    "        \"S.No\": 3,\n",
    "        \"question\": \"What is your country name\",\n",
    "        \"option\": [\"Pakistan\", \"USA\", \"UAE\", \"America\"],\n",
    "        \"answer\": \"Pakistan\"\n",
    "    }\n",
    "]"
   ]
  },
  {
   "cell_type": "code",
   "execution_count": 114,
   "metadata": {},
   "outputs": [
    {
     "data": {
      "text/plain": [
       "[{'S.No': 1,\n",
       "  'option': 'What is your country name',\n",
       "  'question': ['Pakistan', 'USA', 'UAE', 'America'],\n",
       "  'answer': 'Pakistan'},\n",
       " {'S.No': 2,\n",
       "  'option': 'What is your country name',\n",
       "  'question': ['Pakistan', 'USA', 'UAE', 'America'],\n",
       "  'answer': 'Pakistan'},\n",
       " {'S.No': 3,\n",
       "  'option': 'What is your country name',\n",
       "  'question': ['Pakistan', 'USA', 'UAE', 'America'],\n",
       "  'answer': 'Pakistan'}]"
      ]
     },
     "execution_count": 114,
     "metadata": {},
     "output_type": "execute_result"
    }
   ],
   "source": [
    "questions123"
   ]
  },
  {
   "cell_type": "code",
   "execution_count": 118,
   "metadata": {},
   "outputs": [
    {
     "name": "stdout",
     "output_type": "stream",
     "text": [
      "What is your country name\n"
     ]
    }
   ],
   "source": [
    "print(questions123[0][\"question\"])"
   ]
  },
  {
   "cell_type": "code",
   "execution_count": 119,
   "metadata": {},
   "outputs": [
    {
     "data": {
      "text/plain": [
       "3"
      ]
     },
     "execution_count": 119,
     "metadata": {},
     "output_type": "execute_result"
    }
   ],
   "source": [
    "len(questions123)"
   ]
  },
  {
   "cell_type": "code",
   "execution_count": 123,
   "metadata": {},
   "outputs": [],
   "source": [
    "new_question = {\n",
    "    'S.No': 4,\n",
    "    'question': 'What is your country name',\n",
    "    'option': ['Pakistan', 'USA', 'UAE', 'America'],\n",
    "    'answer': 'Pakistan'\n",
    "}\n"
   ]
  },
  {
   "cell_type": "code",
   "execution_count": 121,
   "metadata": {},
   "outputs": [],
   "source": [
    "questions123.append(new_question)"
   ]
  },
  {
   "cell_type": "code",
   "execution_count": 124,
   "metadata": {},
   "outputs": [
    {
     "data": {
      "text/plain": [
       "[{'S.No': 1,\n",
       "  'question': 'What is your country name',\n",
       "  'option': ['Pakistan', 'USA', 'UAE', 'America'],\n",
       "  'answer': 'Pakistan'},\n",
       " {'S.No': 2,\n",
       "  'question': 'What is your country name',\n",
       "  'option': ['Pakistan', 'USA', 'UAE', 'America'],\n",
       "  'answer': 'Pakistan'},\n",
       " {'S.No': 3,\n",
       "  'question': 'What is your country name',\n",
       "  'option': ['Pakistan', 'USA', 'UAE', 'America'],\n",
       "  'answer': 'Pakistan'},\n",
       " {'S.No': 4,\n",
       "  'option': 'What is your country name',\n",
       "  'question': ['Pakistan', 'USA', 'UAE', 'America'],\n",
       "  'answer': 'Pakistan'}]"
      ]
     },
     "execution_count": 124,
     "metadata": {},
     "output_type": "execute_result"
    }
   ],
   "source": [
    "questions123"
   ]
  },
  {
   "cell_type": "code",
   "execution_count": 127,
   "metadata": {},
   "outputs": [
    {
     "name": "stdout",
     "output_type": "stream",
     "text": [
      "America\n"
     ]
    }
   ],
   "source": [
    "print(questions123[3][\"question\"][3])"
   ]
  },
  {
   "cell_type": "code",
   "execution_count": 128,
   "metadata": {},
   "outputs": [
    {
     "data": {
      "text/plain": [
       "{1: {'customer_id': 1,\n",
       "  'first_name': 'Ibrahim',\n",
       "  'last_name': 'Moosa',\n",
       "  'city': 'Karachi'},\n",
       " 2: {'customer_id': 2,\n",
       "  'first_name': 'Aziz',\n",
       "  'last_name': 'Aslam',\n",
       "  'city': 'Lahore',\n",
       "  'email': 'abc@gmail.com'},\n",
       " 3: {'customer_id': 3,\n",
       "  'first_name': 'Amber',\n",
       "  'last_name': 'Qasim',\n",
       "  'city': 'Quetta',\n",
       "  'class': 'Cloud Native Computing',\n",
       "  'batch': 23}}"
      ]
     },
     "execution_count": 128,
     "metadata": {},
     "output_type": "execute_result"
    }
   ],
   "source": [
    "customers"
   ]
  },
  {
   "cell_type": "code",
   "execution_count": 131,
   "metadata": {},
   "outputs": [
    {
     "name": "stdout",
     "output_type": "stream",
     "text": [
      "Aziz\n"
     ]
    }
   ],
   "source": [
    "print(customers[2][\"first_name\"])"
   ]
  },
  {
   "cell_type": "code",
   "execution_count": 2,
   "metadata": {},
   "outputs": [
    {
     "name": "stdout",
     "output_type": "stream",
     "text": [
      "Enter Key Name\n",
      "Enter Value Yousuf\n",
      "Enter Key Father Name\n",
      "Enter Value M Hanif\n",
      "Enter Key Course\n",
      "Enter Value AI\n",
      "Enter Key no\n",
      "Enter Value no\n"
     ]
    }
   ],
   "source": [
    "dic2 = {}\n",
    "while True:\n",
    "    k = input(\"Enter Key \")\n",
    "    v = input(\"Enter Value \")\n",
    "    if k == \"no\" or v == \"no\":\n",
    "        break\n",
    "    dic2[k] = v"
   ]
  },
  {
   "cell_type": "code",
   "execution_count": 3,
   "metadata": {},
   "outputs": [
    {
     "data": {
      "text/plain": [
       "{'Name': 'Yousuf', 'Father Name': 'M Hanif', 'Course': 'AI'}"
      ]
     },
     "execution_count": 3,
     "metadata": {},
     "output_type": "execute_result"
    }
   ],
   "source": [
    "dic2"
   ]
  },
  {
   "cell_type": "code",
   "execution_count": 9,
   "metadata": {},
   "outputs": [
    {
     "data": {
      "text/plain": [
       "'AI'"
      ]
     },
     "execution_count": 9,
     "metadata": {},
     "output_type": "execute_result"
    }
   ],
   "source": [
    "dic2.pop(\"Course\")"
   ]
  },
  {
   "cell_type": "code",
   "execution_count": 10,
   "metadata": {},
   "outputs": [
    {
     "data": {
      "text/plain": [
       "{'Name': 'Yousuf', 'Father Name': 'M Hanif'}"
      ]
     },
     "execution_count": 10,
     "metadata": {},
     "output_type": "execute_result"
    }
   ],
   "source": [
    "dic2"
   ]
  },
  {
   "cell_type": "code",
   "execution_count": null,
   "metadata": {},
   "outputs": [],
   "source": []
  }
 ],
 "metadata": {
  "kernelspec": {
   "display_name": "Python 3",
   "language": "python",
   "name": "python3"
  },
  "language_info": {
   "codemirror_mode": {
    "name": "ipython",
    "version": 3
   },
   "file_extension": ".py",
   "mimetype": "text/x-python",
   "name": "python",
   "nbconvert_exporter": "python",
   "pygments_lexer": "ipython3",
   "version": "3.7.4"
  }
 },
 "nbformat": 4,
 "nbformat_minor": 2
}

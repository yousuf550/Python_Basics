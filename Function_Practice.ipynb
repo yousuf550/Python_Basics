{
 "cells": [
  {
   "cell_type": "markdown",
   "metadata": {},
   "source": [
    "# Functions"
   ]
  },
  {
   "cell_type": "code",
   "execution_count": 1,
   "metadata": {},
   "outputs": [],
   "source": [
    "def add():           #parameter less function\n",
    "    num1 = int(input(\"Enter a value \"))\n",
    "    num2 = int(input(\"Enter another value \"))\n",
    "    print(num1 + num2)"
   ]
  },
  {
   "cell_type": "code",
   "execution_count": 2,
   "metadata": {},
   "outputs": [
    {
     "name": "stdout",
     "output_type": "stream",
     "text": [
      "Enter a value 2\n",
      "Enter another value 3\n",
      "5\n"
     ]
    }
   ],
   "source": [
    "add()"
   ]
  },
  {
   "cell_type": "code",
   "execution_count": 3,
   "metadata": {},
   "outputs": [],
   "source": [
    "def add(number1, number2):         #number1 & number2 are parameters\n",
    "    print(number1 + number2)"
   ]
  },
  {
   "cell_type": "code",
   "execution_count": 4,
   "metadata": {},
   "outputs": [
    {
     "name": "stdout",
     "output_type": "stream",
     "text": [
      "10\n"
     ]
    }
   ],
   "source": [
    "add(5,5)          #3 & % are values (arguments)"
   ]
  },
  {
   "cell_type": "code",
   "execution_count": 5,
   "metadata": {},
   "outputs": [],
   "source": [
    "def add(a,b):              #parameterised fucntion\n",
    "    print(a+b)"
   ]
  },
  {
   "cell_type": "code",
   "execution_count": 6,
   "metadata": {},
   "outputs": [
    {
     "name": "stdout",
     "output_type": "stream",
     "text": [
      "14\n"
     ]
    }
   ],
   "source": [
    "add(10,4)              #arguments"
   ]
  },
  {
   "cell_type": "code",
   "execution_count": 7,
   "metadata": {},
   "outputs": [
    {
     "name": "stdout",
     "output_type": "stream",
     "text": [
      "145\n"
     ]
    }
   ],
   "source": [
    "add(100,45)"
   ]
  },
  {
   "cell_type": "code",
   "execution_count": 8,
   "metadata": {},
   "outputs": [
    {
     "name": "stdout",
     "output_type": "stream",
     "text": [
      "Enter a value 3\n",
      "103\n"
     ]
    }
   ],
   "source": [
    "add(int(input(\"Enter a value \")),100)"
   ]
  },
  {
   "cell_type": "code",
   "execution_count": 9,
   "metadata": {},
   "outputs": [
    {
     "name": "stdout",
     "output_type": "stream",
     "text": [
      "5\n"
     ]
    }
   ],
   "source": [
    "add(b = 3, a = 2)"
   ]
  },
  {
   "cell_type": "code",
   "execution_count": 10,
   "metadata": {},
   "outputs": [],
   "source": [
    "def fullName(first, middle, last):\n",
    "    print(first + middle + last)\n"
   ]
  },
  {
   "cell_type": "code",
   "execution_count": 11,
   "metadata": {},
   "outputs": [
    {
     "name": "stdout",
     "output_type": "stream",
     "text": [
      "alihussainkhan\n"
     ]
    }
   ],
   "source": [
    "fullName(\"ali\", \"hussain\", \"khan\")"
   ]
  },
  {
   "cell_type": "code",
   "execution_count": 12,
   "metadata": {},
   "outputs": [],
   "source": [
    "#Sequenece matter in positional arguments"
   ]
  },
  {
   "cell_type": "code",
   "execution_count": 13,
   "metadata": {},
   "outputs": [],
   "source": [
    "#key work argument"
   ]
  },
  {
   "cell_type": "code",
   "execution_count": 14,
   "metadata": {},
   "outputs": [
    {
     "name": "stdout",
     "output_type": "stream",
     "text": [
      "habibhussainali\n"
     ]
    }
   ],
   "source": [
    "fullName(middle=\"hussain\", last=\"ali\", first=\"habib\")"
   ]
  },
  {
   "cell_type": "code",
   "execution_count": 15,
   "metadata": {},
   "outputs": [],
   "source": [
    "def fullName(first, last, middle=\" \"):\n",
    "    print(first + middle + last)"
   ]
  },
  {
   "cell_type": "code",
   "execution_count": 16,
   "metadata": {},
   "outputs": [
    {
     "name": "stdout",
     "output_type": "stream",
     "text": [
      "Hussain Ismail\n"
     ]
    }
   ],
   "source": [
    "fullName(\"Hussain\", \"Ismail\")"
   ]
  },
  {
   "cell_type": "code",
   "execution_count": 17,
   "metadata": {},
   "outputs": [],
   "source": [
    "def pizzaOrder(size, flavour, *toppings):              # \"*\" deal with arbitary arguments\n",
    "    print(f\" Your order for pizza of size {size}, flavour {flavour} and toppings {toppings} is ready\")"
   ]
  },
  {
   "cell_type": "code",
   "execution_count": 18,
   "metadata": {},
   "outputs": [
    {
     "name": "stdout",
     "output_type": "stream",
     "text": [
      " Your order for pizza of size 12, flavour chicken tikka and toppings ('olives', 'fruits') is ready\n"
     ]
    }
   ],
   "source": [
    "pizzaOrder(12,\"chicken tikka\", \"olives\", \"fruits\")"
   ]
  },
  {
   "cell_type": "code",
   "execution_count": 19,
   "metadata": {},
   "outputs": [],
   "source": [
    "def add (val1, val2):\n",
    "    ans = val1 + val2\n",
    "    \n",
    "    return ans"
   ]
  },
  {
   "cell_type": "code",
   "execution_count": 20,
   "metadata": {},
   "outputs": [],
   "source": [
    "result = add(1,4)"
   ]
  },
  {
   "cell_type": "code",
   "execution_count": 21,
   "metadata": {},
   "outputs": [
    {
     "name": "stdout",
     "output_type": "stream",
     "text": [
      "5\n"
     ]
    }
   ],
   "source": [
    "print(result)"
   ]
  },
  {
   "cell_type": "code",
   "execution_count": 22,
   "metadata": {},
   "outputs": [],
   "source": [
    "def add(a,b):\n",
    "    return a + b\n",
    "def sub(c,d):\n",
    "    return c - d"
   ]
  },
  {
   "cell_type": "code",
   "execution_count": 23,
   "metadata": {},
   "outputs": [],
   "source": [
    "result = add(2,3) + sub(4,5)"
   ]
  },
  {
   "cell_type": "code",
   "execution_count": 24,
   "metadata": {},
   "outputs": [
    {
     "data": {
      "text/plain": [
       "4"
      ]
     },
     "execution_count": 24,
     "metadata": {},
     "output_type": "execute_result"
    }
   ],
   "source": [
    "result"
   ]
  },
  {
   "cell_type": "code",
   "execution_count": 4,
   "metadata": {},
   "outputs": [],
   "source": [
    "def beHappy():\n",
    "    name = \"Mr. A\"                          #name is a local variable\n",
    "    print(f\"{name} is very happy today\")"
   ]
  },
  {
   "cell_type": "code",
   "execution_count": 5,
   "metadata": {},
   "outputs": [
    {
     "name": "stdout",
     "output_type": "stream",
     "text": [
      "Mr. A is very happy today\n"
     ]
    }
   ],
   "source": [
    "beHappy()"
   ]
  },
  {
   "cell_type": "code",
   "execution_count": 6,
   "metadata": {},
   "outputs": [
    {
     "ename": "NameError",
     "evalue": "name 'name' is not defined",
     "output_type": "error",
     "traceback": [
      "\u001b[1;31m---------------------------------------------------------------------------\u001b[0m",
      "\u001b[1;31mNameError\u001b[0m                                 Traceback (most recent call last)",
      "\u001b[1;32m<ipython-input-6-680372c2321a>\u001b[0m in \u001b[0;36m<module>\u001b[1;34m\u001b[0m\n\u001b[1;32m----> 1\u001b[1;33m \u001b[0mprint\u001b[0m\u001b[1;33m(\u001b[0m\u001b[0mname\u001b[0m\u001b[1;33m)\u001b[0m         \u001b[1;31m#local variable accesable only in function\u001b[0m\u001b[1;33m\u001b[0m\u001b[1;33m\u001b[0m\u001b[0m\n\u001b[0m",
      "\u001b[1;31mNameError\u001b[0m: name 'name' is not defined"
     ]
    }
   ],
   "source": [
    "print(name)         #local variable accesable only in function"
   ]
  },
  {
   "cell_type": "code",
   "execution_count": 2,
   "metadata": {},
   "outputs": [],
   "source": [
    "anotherName = \"Mr. B\"            #Global variable\n",
    "def sad():\n",
    "    print(f\"{anotherName} is very happy today\")"
   ]
  },
  {
   "cell_type": "code",
   "execution_count": 3,
   "metadata": {},
   "outputs": [
    {
     "name": "stdout",
     "output_type": "stream",
     "text": [
      "Mr. B is very happy today\n"
     ]
    }
   ],
   "source": [
    "sad()"
   ]
  },
  {
   "cell_type": "code",
   "execution_count": null,
   "metadata": {},
   "outputs": [],
   "source": [
    "anotherName"
   ]
  },
  {
   "cell_type": "code",
   "execution_count": 29,
   "metadata": {},
   "outputs": [],
   "source": [
    "def commissionCalc(sales):\n",
    "    if sales>100:\n",
    "        return sales*100\n",
    "    elif sales> 50:\n",
    "        return sales*50\n",
    "    elif sales>20:\n",
    "        return sales*20\n",
    "    else:\n",
    "        return 0 \n",
    "\n",
    "def salaryCalc(basic,sales):\n",
    "    grossSalary = basic + commissionCalc(sales)\n",
    "    print(f\" Your Gross Salary is {grossSalary}\")"
   ]
  },
  {
   "cell_type": "code",
   "execution_count": 32,
   "metadata": {},
   "outputs": [
    {
     "name": "stdout",
     "output_type": "stream",
     "text": [
      " Your Gross Salary is 65000\n"
     ]
    }
   ],
   "source": [
    " salaryCalc(50000,150)"
   ]
  },
  {
   "cell_type": "code",
   "execution_count": 33,
   "metadata": {},
   "outputs": [],
   "source": [
    "#to check methods:\n",
    "\n",
    "#variableName. (.then press tab)\n",
    "# dir(variableName)\n",
    "\n",
    "#TO help\n",
    "# variableName?, variableName??, help(variableName), ?variableName"
   ]
  },
  {
   "cell_type": "code",
   "execution_count": 35,
   "metadata": {},
   "outputs": [],
   "source": [
    "# Function\n",
    " #Return--->>> we can assign value to any other variable\n",
    " #Non-Return--->> we can't assign value to any other variable "
   ]
  },
  {
   "cell_type": "code",
   "execution_count": 38,
   "metadata": {},
   "outputs": [],
   "source": [
    "#Any Object depend on two things:\n",
    " #1. Method -->> Perform any functi               ------>> variableName.method()  \"()\"\n",
    " #2. Attribute / property / field --->> have some value    -------->> variableName.attributeName"
   ]
  },
  {
   "cell_type": "code",
   "execution_count": 1,
   "metadata": {},
   "outputs": [],
   "source": [
    "#Topics:\n",
    "#      function\n",
    "#          1.function declaration\n",
    "#          2.function body\n",
    "#          3.function calling\n",
    "    \n",
    "#      pre define fucntion\n",
    "#         return function\n",
    "#         Non return function\n",
    "#             default function\n",
    "#             required arguments\n",
    "#               1.positional arguments\n",
    "#               2.keyword arguments\n",
    "#             optional arguments\n",
    "        \n",
    "#      user define function\n",
    "#         Same as above"
   ]
  },
  {
   "cell_type": "markdown",
   "metadata": {},
   "source": [
    "# why we need of function in programing"
   ]
  },
  {
   "cell_type": "code",
   "execution_count": 2,
   "metadata": {},
   "outputs": [
    {
     "name": "stdout",
     "output_type": "stream",
     "text": [
      "Pakistan Zindabad\n",
      "We are Pakistani\n",
      "We love our country\n",
      "We ar proud nation\n"
     ]
    }
   ],
   "source": [
    "#Example\n",
    "print(\"Pakistan Zindabad\")\n",
    "print(\"We are Pakistani\")\n",
    "print(\"We love our country\")\n",
    "print(\"We ar proud nation\")"
   ]
  },
  {
   "cell_type": "markdown",
   "metadata": {},
   "source": [
    "# Now Create Function"
   ]
  },
  {
   "cell_type": "code",
   "execution_count": 9,
   "metadata": {},
   "outputs": [
    {
     "name": "stdout",
     "output_type": "stream",
     "text": [
      "Pakistan\n",
      "None\n",
      "Enter any value13\n",
      "13\n"
     ]
    }
   ],
   "source": [
    "#\n",
    "a = print(\"Pakistan\") #non return function\n",
    "print(a)\n",
    "\n",
    "b = input(\"Enter any value\") #return function\n",
    "print(b)"
   ]
  },
  {
   "cell_type": "code",
   "execution_count": 5,
   "metadata": {},
   "outputs": [
    {
     "name": "stdout",
     "output_type": "stream",
     "text": [
      "Pakistan Zindabad\n",
      "We are Pakistani\n",
      "We love our country\n",
      "We ar proud nation\n"
     ]
    }
   ],
   "source": [
    "#Default function\n",
    "def abc(): #function declaration\n",
    "    print(\"Pakistan Zindabad\")       #function body\n",
    "    print(\"We are Pakistani\")\n",
    "    print(\"We love our country\")\n",
    "    print(\"We ar proud nation\")\n",
    "          \n",
    "abc()     #function call"
   ]
  },
  {
   "cell_type": "code",
   "execution_count": 11,
   "metadata": {},
   "outputs": [
    {
     "name": "stdout",
     "output_type": "stream",
     "text": [
      "5\n"
     ]
    }
   ],
   "source": [
    "#Required arguments\n",
    "def add_two_num(n1,n2):\n",
    "    return n1 + n2\n",
    "\n",
    "a = add_two_num(2,3)\n",
    "print(a)\n",
    "    "
   ]
  },
  {
   "cell_type": "code",
   "execution_count": 14,
   "metadata": {},
   "outputs": [
    {
     "data": {
      "text/plain": [
       "68"
      ]
     },
     "execution_count": 14,
     "metadata": {},
     "output_type": "execute_result"
    }
   ],
   "source": [
    "add_two_num(23,45)"
   ]
  },
  {
   "cell_type": "code",
   "execution_count": 16,
   "metadata": {},
   "outputs": [
    {
     "name": "stdout",
     "output_type": "stream",
     "text": [
      "1\n",
      "2\n"
     ]
    }
   ],
   "source": [
    "#Key word Argument\n",
    "def subtract_n1_n2(n1,n2):\n",
    "    return n1 - n2\n",
    "\n",
    "print(subtract_n1_n2(2,1))            #Positional Argument\n",
    "print(subtract_n1_n2(n2=4,n1=6))      #Keyword Argument"
   ]
  },
  {
   "cell_type": "code",
   "execution_count": 22,
   "metadata": {},
   "outputs": [
    {
     "name": "stdout",
     "output_type": "stream",
     "text": [
      "\n",
      "    PIAIC STUDENT CARD\n",
      "    Student ID: 23415\n",
      "    Name: M Yousuf\n",
      "    Father's Name: Hanif\n",
      "    Course: AI\n",
      "    \n",
      "\n",
      "    PIAIC STUDENT CARD\n",
      "    Student ID: 23415\n",
      "    Name: Hunaid\n",
      "    Father's Name: Hanif\n",
      "    Course: CNC\n",
      "    \n"
     ]
    }
   ],
   "source": [
    "\n",
    "def card(id,name,fname,course):\n",
    "    return '''\n",
    "    PIAIC STUDENT CARD\n",
    "    Student ID: {}\n",
    "    Name: {}\n",
    "    Father's Name: {}\n",
    "    Course: {}\n",
    "    '''.format(id,name,fname,course)\n",
    "\n",
    "print(card(23415, \"M Yousuf\", \"Hanif\", \"AI\"))\n",
    "print(card(fname=\"Hanif\",id=23415,name=\"Hunaid\",course=\"CNC\"))"
   ]
  },
  {
   "cell_type": "code",
   "execution_count": 23,
   "metadata": {},
   "outputs": [],
   "source": [
    "#Passing positional argument with list\n",
    "\n",
    "def card(id,name,fname,course):\n",
    "    return '''\n",
    "    PIAIC STUDENT CARD\n",
    "    Student ID: {}\n",
    "    Name: {}\n",
    "    Father's Name: {}\n",
    "    Course: {}\n",
    "    '''.format(id,name,fname,course)"
   ]
  },
  {
   "cell_type": "code",
   "execution_count": 27,
   "metadata": {},
   "outputs": [
    {
     "name": "stdout",
     "output_type": "stream",
     "text": [
      "\n",
      "    PIAIC STUDENT CARD\n",
      "    Student ID: 0\n",
      "    Name: Asif\n",
      "    Father's Name: Abid Khan\n",
      "    Course: AI\n",
      "    \n",
      "\n",
      "    PIAIC STUDENT CARD\n",
      "    Student ID: 0\n",
      "    Name: Asif\n",
      "    Father's Name: Abid Khan\n",
      "    Course: AI\n",
      "    \n"
     ]
    }
   ],
   "source": [
    "l1 = [0, \"Asif\", \"Abid Khan\", \"AI\"]\n",
    "print(card(l1[0],l1[1],l1[2],l1[3]))     #1st method\n",
    "print(card(*l1))"
   ]
  },
  {
   "cell_type": "code",
   "execution_count": 36,
   "metadata": {},
   "outputs": [],
   "source": [
    "#Passing keyword argument with dictionary\n",
    "\n",
    "def card(id,name,fname,course):\n",
    "    return f'''\n",
    "    PIAIC STUDENT CARD\n",
    "    Student ID: {id}\n",
    "    Name: {name}\n",
    "    Father's Name: {fname}\n",
    "    Course: {course}\n",
    "    '''"
   ]
  },
  {
   "cell_type": "code",
   "execution_count": 35,
   "metadata": {},
   "outputs": [
    {
     "name": "stdout",
     "output_type": "stream",
     "text": [
      "\n",
      "    PIAIC STUDENT CARD\n",
      "    Student ID: 124512\n",
      "    Name: Qasim\n",
      "    Father's Name: Aslam\n",
      "    Course: AI\n",
      "    \n"
     ]
    }
   ],
   "source": [
    "dic = {\"name\": \"Qasim\",\n",
    "      \"fname\": \"Aslam\",\n",
    "       \"course\": \"AI\",\n",
    "       \"id\": 124512\n",
    "      }\n",
    "\n",
    "print(card(**dic))"
   ]
  },
  {
   "cell_type": "markdown",
   "metadata": {},
   "source": [
    "# set default arguments values"
   ]
  },
  {
   "cell_type": "code",
   "execution_count": 40,
   "metadata": {},
   "outputs": [
    {
     "name": "stdout",
     "output_type": "stream",
     "text": [
      "1 2 0\n"
     ]
    },
    {
     "data": {
      "text/plain": [
       "3"
      ]
     },
     "execution_count": 40,
     "metadata": {},
     "output_type": "execute_result"
    }
   ],
   "source": [
    "def xyz_add(x,y,z=0):  #z=0 default argument value\n",
    "    print(x,y,z)\n",
    "    return x+y+z\n",
    "\n",
    "xyz_add(1,2)"
   ]
  },
  {
   "cell_type": "code",
   "execution_count": 42,
   "metadata": {},
   "outputs": [
    {
     "name": "stdout",
     "output_type": "stream",
     "text": [
      "12 12 12\n"
     ]
    },
    {
     "data": {
      "text/plain": [
       "36"
      ]
     },
     "execution_count": 42,
     "metadata": {},
     "output_type": "execute_result"
    }
   ],
   "source": [
    "xyz_add(12,12,12)"
   ]
  },
  {
   "cell_type": "code",
   "execution_count": 44,
   "metadata": {},
   "outputs": [
    {
     "name": "stdout",
     "output_type": "stream",
     "text": [
      "1 4 0\n",
      "1 3 45\n"
     ]
    },
    {
     "data": {
      "text/plain": [
       "49"
      ]
     },
     "execution_count": 44,
     "metadata": {},
     "output_type": "execute_result"
    }
   ],
   "source": [
    "xyz_add(1,4)\n",
    "xyz_add(1,3,45)"
   ]
  },
  {
   "cell_type": "markdown",
   "metadata": {},
   "source": [
    "# Create function with unlimited parameters"
   ]
  },
  {
   "cell_type": "code",
   "execution_count": 45,
   "metadata": {},
   "outputs": [],
   "source": [
    "def add_nums(n1,*ls):\n",
    "    return n1 + sum(ls)"
   ]
  },
  {
   "cell_type": "code",
   "execution_count": 46,
   "metadata": {},
   "outputs": [
    {
     "data": {
      "text/plain": [
       "3"
      ]
     },
     "execution_count": 46,
     "metadata": {},
     "output_type": "execute_result"
    }
   ],
   "source": [
    "add_nums(1,2)"
   ]
  },
  {
   "cell_type": "code",
   "execution_count": 47,
   "metadata": {},
   "outputs": [
    {
     "data": {
      "text/plain": [
       "33"
      ]
     },
     "execution_count": 47,
     "metadata": {},
     "output_type": "execute_result"
    }
   ],
   "source": [
    "add_nums(1,2,4,5,21)"
   ]
  },
  {
   "cell_type": "markdown",
   "metadata": {},
   "source": [
    "# Create function with unlimited parameters (keyword)"
   ]
  },
  {
   "cell_type": "code",
   "execution_count": 55,
   "metadata": {},
   "outputs": [],
   "source": [
    "def add_keyNums(n1,**ds):\n",
    "    lst = []\n",
    "    lst.append(n1)\n",
    "    print(ds)\n",
    "    for k, v in ds.items():\n",
    "        lst.append(ds[k])\n",
    "    return sum(lst)"
   ]
  },
  {
   "cell_type": "code",
   "execution_count": 56,
   "metadata": {},
   "outputs": [
    {
     "name": "stdout",
     "output_type": "stream",
     "text": [
      "{'n2': 4, 'n4': 5}\n"
     ]
    },
    {
     "data": {
      "text/plain": [
       "11"
      ]
     },
     "execution_count": 56,
     "metadata": {},
     "output_type": "execute_result"
    }
   ],
   "source": [
    "add_keyNums(n1=2,n2=4,n4=5)"
   ]
  },
  {
   "cell_type": "code",
   "execution_count": 59,
   "metadata": {},
   "outputs": [
    {
     "data": {
      "text/plain": [
       "19"
      ]
     },
     "execution_count": 59,
     "metadata": {},
     "output_type": "execute_result"
    }
   ],
   "source": [
    "def abc1(*l,n1,**d):\n",
    "    return n1 + sum(l) + sum([v for k,v in d.items()])\n",
    "abc1(1,2,4,5,n1=2,a=2,b=3)"
   ]
  },
  {
   "cell_type": "markdown",
   "metadata": {},
   "source": [
    "\n",
    "# Lambda Function"
   ]
  },
  {
   "cell_type": "markdown",
   "metadata": {},
   "source": [
    "*  One line function\n",
    "*  Anonymous function\n",
    "*  Never use before and after"
   ]
  },
  {
   "cell_type": "code",
   "execution_count": 63,
   "metadata": {},
   "outputs": [
    {
     "data": {
      "text/plain": [
       "8"
      ]
     },
     "execution_count": 63,
     "metadata": {},
     "output_type": "execute_result"
    }
   ],
   "source": [
    "# def fname(p1,p2,p3,....):\n",
    "#     fbody\n",
    "\n",
    "# lambda p1,p2,p3: body \n",
    "\n",
    "abc = lambda x1,x2,x3: x1+x2+x3\n",
    "abc(1,3,4)"
   ]
  },
  {
   "cell_type": "code",
   "execution_count": 78,
   "metadata": {},
   "outputs": [
    {
     "data": {
      "text/plain": [
       "{'a': 12, 'c': 14, 'd': 15, 'b': 23}"
      ]
     },
     "execution_count": 78,
     "metadata": {},
     "output_type": "execute_result"
    }
   ],
   "source": [
    "dic1 = {\n",
    "    \"a\" : 12,\n",
    "    \"b\" : 23,\n",
    "    \"d\" : 15,\n",
    "    \"c\" : 14,\n",
    "}\n",
    "\n",
    "{k:v for k,v in sorted(dic1.items(), key = lambda x:x[1])}\n"
   ]
  },
  {
   "cell_type": "code",
   "execution_count": 79,
   "metadata": {},
   "outputs": [
    {
     "data": {
      "text/plain": [
       "[('a', 12), ('b', 23), ('c', 14), ('d', 15)]"
      ]
     },
     "execution_count": 79,
     "metadata": {},
     "output_type": "execute_result"
    }
   ],
   "source": [
    "sorted(dic1.items())"
   ]
  },
  {
   "cell_type": "markdown",
   "metadata": {},
   "source": [
    "# Comprehensive style"
   ]
  },
  {
   "cell_type": "markdown",
   "metadata": {},
   "source": [
    "If Comprehensive"
   ]
  },
  {
   "cell_type": "code",
   "execution_count": 81,
   "metadata": {},
   "outputs": [],
   "source": [
    " #Normal style to write code\n",
    "\n",
    "# if logic:\n",
    "#     logic True Block\n",
    "# else:\n",
    "#     logic False Block"
   ]
  },
  {
   "cell_type": "code",
   "execution_count": 83,
   "metadata": {},
   "outputs": [],
   "source": [
    "# Comprehensive style\n",
    "# logic True Block if logice else Logic False Block "
   ]
  },
  {
   "cell_type": "code",
   "execution_count": 84,
   "metadata": {},
   "outputs": [
    {
     "name": "stdout",
     "output_type": "stream",
     "text": [
      "True Block\n"
     ]
    }
   ],
   "source": [
    "if True:\n",
    "    print(\"True Block\")\n",
    "else:\n",
    "    print(\"False Block\")"
   ]
  },
  {
   "cell_type": "code",
   "execution_count": 85,
   "metadata": {},
   "outputs": [
    {
     "name": "stdout",
     "output_type": "stream",
     "text": [
      "True Block\n"
     ]
    }
   ],
   "source": [
    "print(\"True Block\") if True else print(\"False Block\")"
   ]
  },
  {
   "cell_type": "markdown",
   "metadata": {},
   "source": [
    "List Comprehensive"
   ]
  },
  {
   "cell_type": "code",
   "execution_count": 86,
   "metadata": {},
   "outputs": [
    {
     "name": "stdout",
     "output_type": "stream",
     "text": [
      "3\n",
      "6\n",
      "7\n",
      "8\n",
      "8\n"
     ]
    }
   ],
   "source": [
    "l = [1,4,5,6,6]\n",
    "for i in l:\n",
    "    print(i+2)"
   ]
  },
  {
   "cell_type": "code",
   "execution_count": 91,
   "metadata": {},
   "outputs": [
    {
     "data": {
      "text/plain": [
       "[3, 6, 7, 8, 8]"
      ]
     },
     "execution_count": 91,
     "metadata": {},
     "output_type": "execute_result"
    }
   ],
   "source": [
    "l = [1,4,5,6,6]\n",
    "[i+2 for i in l]"
   ]
  },
  {
   "cell_type": "markdown",
   "metadata": {},
   "source": [
    "Dictionary Comprehensive"
   ]
  },
  {
   "cell_type": "code",
   "execution_count": 109,
   "metadata": {},
   "outputs": [
    {
     "name": "stdout",
     "output_type": "stream",
     "text": [
      "4\n",
      "6\n",
      "5\n"
     ]
    }
   ],
   "source": [
    "dic2 = {\n",
    "    \"a\" : 2,\n",
    "    \"b\" : 4,\n",
    "    \"e\" : 3\n",
    "}\n",
    "for v in dic2.values():\n",
    "    print(v+2)"
   ]
  },
  {
   "cell_type": "code",
   "execution_count": 110,
   "metadata": {},
   "outputs": [
    {
     "data": {
      "text/plain": [
       "{4, 5, 6}"
      ]
     },
     "execution_count": 110,
     "metadata": {},
     "output_type": "execute_result"
    }
   ],
   "source": [
    "{v+2 for v in dic2.values()}"
   ]
  },
  {
   "cell_type": "markdown",
   "metadata": {},
   "source": [
    "# Recursive Function"
   ]
  },
  {
   "cell_type": "code",
   "execution_count": 111,
   "metadata": {},
   "outputs": [
    {
     "data": {
      "text/plain": [
       "120"
      ]
     },
     "execution_count": 111,
     "metadata": {},
     "output_type": "execute_result"
    }
   ],
   "source": [
    "#!5\n",
    "1*2*3*4*5"
   ]
  },
  {
   "cell_type": "code",
   "execution_count": 113,
   "metadata": {},
   "outputs": [
    {
     "data": {
      "text/plain": [
       "120"
      ]
     },
     "execution_count": 113,
     "metadata": {},
     "output_type": "execute_result"
    }
   ],
   "source": [
    "def abc(x):\n",
    "    a = 1\n",
    "    for i in range(1,x+1):\n",
    "        a = a * i\n",
    "    return a\n",
    "        \n",
    "abc(5)"
   ]
  },
  {
   "cell_type": "code",
   "execution_count": 120,
   "metadata": {},
   "outputs": [
    {
     "data": {
      "text/plain": [
       "120"
      ]
     },
     "execution_count": 120,
     "metadata": {},
     "output_type": "execute_result"
    }
   ],
   "source": [
    "def abc1(x):\n",
    "    if x==0:\n",
    "        return 1\n",
    "    return abc1(x-1)*x\n",
    "abc(5)"
   ]
  },
  {
   "cell_type": "code",
   "execution_count": null,
   "metadata": {},
   "outputs": [],
   "source": []
  }
 ],
 "metadata": {
  "kernelspec": {
   "display_name": "Python 3",
   "language": "python",
   "name": "python3"
  },
  "language_info": {
   "codemirror_mode": {
    "name": "ipython",
    "version": 3
   },
   "file_extension": ".py",
   "mimetype": "text/x-python",
   "name": "python",
   "nbconvert_exporter": "python",
   "pygments_lexer": "ipython3",
   "version": "3.7.4"
  }
 },
 "nbformat": 4,
 "nbformat_minor": 2
}

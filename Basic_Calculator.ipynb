{
 "cells": [
  {
   "cell_type": "code",
   "execution_count": 2,
   "metadata": {},
   "outputs": [
    {
     "name": "stdout",
     "output_type": "stream",
     "text": [
      "Enter first value: 2\n",
      "Enter operator: +\n",
      "Enter second value: 3\n",
      "Answer:  5\n"
     ]
    }
   ],
   "source": [
    "value1 = int(input(\"Enter first value: \"))\n",
    "operator = input(\"Enter operator: \")\n",
    "value2 = int(input(\"Enter second value: \"))\n",
    "\n",
    "if operator == \"+\":\n",
    "    value = value1 + value2\n",
    "    print(\"Answer: \",value )\n",
    "elif operator == \"-\":\n",
    "    value = value1 - value2\n",
    "    print(\"Answer: \",value )\n",
    "elif operator == \"*\":\n",
    "    value = value1 * value2\n",
    "    print(\"Answer: \",value )\n",
    "elif operator == \"/\":\n",
    "    value = value1 / value2\n",
    "    print(\"Answer: \",value )\n",
    "else:\n",
    "    print(\"incorrect operator\")"
   ]
  },
  {
   "cell_type": "code",
   "execution_count": null,
   "metadata": {},
   "outputs": [],
   "source": []
  }
 ],
 "metadata": {
  "kernelspec": {
   "display_name": "Python 3",
   "language": "python",
   "name": "python3"
  }
 },
 "nbformat": 4,
 "nbformat_minor": 2
}
